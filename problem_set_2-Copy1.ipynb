{
 "cells": [
  {
   "cell_type": "markdown",
   "metadata": {},
   "source": [
    "# Problem set 2: Finding the Walras equilibrium in a multi-agent economy"
   ]
  },
  {
   "cell_type": "markdown",
   "metadata": {},
   "source": [
    "[<img src=\"https://mybinder.org/badge_logo.svg\">](https://mybinder.org/v2/gh/NumEconCopenhagen/exercises-2019/master?urlpath=lab/tree/PS2/problem_set_2.ipynb)"
   ]
  },
  {
   "cell_type": "code",
   "execution_count": 1,
   "metadata": {},
   "outputs": [],
   "source": [
    "%load_ext autoreload\n",
    "%autoreload 2"
   ]
  },
  {
   "cell_type": "markdown",
   "metadata": {},
   "source": [
    "# Tasks"
   ]
  },
  {
   "cell_type": "markdown",
   "metadata": {},
   "source": [
    "## Drawing random numbers"
   ]
  },
  {
   "cell_type": "markdown",
   "metadata": {},
   "source": [
    "Replace the missing lines in the code below to get the same output as in the answer."
   ]
  },
  {
   "cell_type": "code",
   "execution_count": 3,
   "metadata": {},
   "outputs": [
    {
     "name": "stdout",
     "output_type": "stream",
     "text": [
      "(0,0): x = 0.569\n",
      "(0,1): x = 0.077\n",
      "(1,0): x = 0.569\n",
      "(1,1): x = 0.077\n",
      "(2,0): x = 0.569\n",
      "(2,1): x = 0.077\n"
     ]
    }
   ],
   "source": [
    "import numpy as np\n",
    "np.random.seed(1986)\n",
    "# missing line\n",
    "for i in range(3):\n",
    "    np.random.seed(1986)\n",
    "    for j in range(2):\n",
    "        x = np.random.uniform()\n",
    "        print(f'({i},{j}): x = {x:.3f}')"
   ]
  },
  {
   "cell_type": "markdown",
   "metadata": {},
   "source": [
    "**Answer:**"
   ]
  },
  {
   "cell_type": "code",
   "execution_count": 3,
   "metadata": {
    "jupyter": {
     "source_hidden": true
    }
   },
   "outputs": [
    {
     "name": "stdout",
     "output_type": "stream",
     "text": [
      "(0,0): x = 0.569\n",
      "(0,1): x = 0.077\n",
      "(1,0): x = 0.569\n",
      "(1,1): x = 0.077\n",
      "(2,0): x = 0.569\n",
      "(2,1): x = 0.077\n"
     ]
    }
   ],
   "source": [
    "import numpy as np\n",
    "np.random.seed(1986)\n",
    "state = np.random.get_state()\n",
    "for i in range(3):\n",
    "    np.random.set_state(state)\n",
    "    for j in range(2):\n",
    "        x = np.random.uniform()\n",
    "        print(f'({i},{j}): x = {x:.3f}')"
   ]
  },
  {
   "cell_type": "markdown",
   "metadata": {},
   "source": [
    "## Find the expectated value"
   ]
  },
  {
   "cell_type": "markdown",
   "metadata": {},
   "source": [
    "Find the expected value and the expected variance\n",
    "\n",
    "$$ \n",
    "\\mathbb{E}[g(x)] \\approx \\frac{1}{N}\\sum_{i=1}^{N} g(x_i\n",
    "$$\n",
    "$$ \n",
    "\\mathbb{VAR}[g(x)] \\approx \\frac{1}{N}\\sum_{i=1}^{N} \\left( g(x_i) - \\frac{1}{N}\\sum_{i=1}^{N} g(x_i) \\right)^2\n",
    "$$\n",
    "\n",
    "where $ x_i \\sim \\mathcal{N}(0,\\sigma) $ and\n",
    "\n",
    "$$ \n",
    "g(x,\\omega)=\\begin{cases}\n",
    "x & \\text{if }x\\in[-\\omega,\\omega]\\\\\n",
    "-\\omega & \\text{if }x<-\\omega\\\\\n",
    "\\omega & \\text{if }x>\\omega\n",
    "\\end{cases} \n",
    "$$"
   ]
  },
  {
   "cell_type": "code",
   "execution_count": 40,
   "metadata": {},
   "outputs": [
    {
     "name": "stdout",
     "output_type": "stream",
     "text": [
      "mean = -0.0026419419466646686\n",
      "var = 2.6980407418768872\n"
     ]
    }
   ],
   "source": [
    "sigma = 3.14\n",
    "omega = 2\n",
    "N = 10000\n",
    "np.random.seed(1986)\n",
    "\n",
    "x = np.random.normal(loc=0,scale=sigma,size=N)\n",
    "def g(x,omega=omega):\n",
    "    y = x.copy()\n",
    "    y[x < -omega] = -omega\n",
    "    y[x > omega] = omega\n",
    "    return y\n",
    "\n",
    "print(\"mean = \" + str(np.mean(g(x))))\n",
    "print(\"var = \" + str(np.var(g(x))))\n",
    "    "
   ]
  },
  {
   "cell_type": "markdown",
   "metadata": {},
   "source": [
    "**Answer:**"
   ]
  },
  {
   "cell_type": "code",
   "execution_count": 5,
   "metadata": {
    "jupyter": {
     "source_hidden": true
    }
   },
   "outputs": [
    {
     "name": "stdout",
     "output_type": "stream",
     "text": [
      "mean = -0.00264, var = 2.69804\n"
     ]
    }
   ],
   "source": [
    "# a. parameter choices\n",
    "sigma = 3.14\n",
    "omega = 2\n",
    "N = 10000\n",
    "np.random.seed(1986)\n",
    "\n",
    "# b. draw random numbers\n",
    "x = np.random.normal(loc=0,scale=sigma,size=N)\n",
    "\n",
    "# c. transformation function\n",
    "def g(x,omega):\n",
    "    y = x.copy()\n",
    "    y[x < -omega] = -omega\n",
    "    y[x > omega] = omega\n",
    "    return y\n",
    "\n",
    "# d. mean and variance\n",
    "mean = np.mean(g(x,omega))\n",
    "var = np.var(g(x-mean,omega))\n",
    "print(f'mean = {mean:.5f}, var = {var:.5f}')"
   ]
  },
  {
   "cell_type": "markdown",
   "metadata": {},
   "source": [
    "## Interactive histogram"
   ]
  },
  {
   "cell_type": "markdown",
   "metadata": {},
   "source": [
    "**First task:** Consider the code below. Fill in the missing lines so the figure is plotted."
   ]
  },
  {
   "cell_type": "code",
   "execution_count": 49,
   "metadata": {},
   "outputs": [
    {
     "data": {
      "image/png": "[encoded data removed]",
      "text/plain": [
       "<Figure size 600x400 with 1 Axes>"
      ]
     },
     "metadata": {
      "needs_background": "light"
     },
     "output_type": "display_data"
    }
   ],
   "source": [
    "# a. import\n",
    "%matplotlib inline\n",
    "import matplotlib.pyplot as plt\n",
    "# missing line\n",
    "from scipy.stats import norm\n",
    "\n",
    "\n",
    "# b. plotting figure\n",
    "def fitting_normal(X,mu_guess,sigma_guess):\n",
    "    \n",
    "    # i. normal distribution from guess\n",
    "    F = norm(loc=mu_guess,scale=sigma_guess)\n",
    "    \n",
    "    # ii. x-values\n",
    "    # missing line, x_low =\n",
    "    x_low = F.ppf(0.001)\n",
    "    # missing line, x_high =\n",
    "    x_high = F.ppf(0.999)\n",
    "    x = np.linspace(x_low,x_high,100)\n",
    "\n",
    "    # iii. figure\n",
    "    fig = plt.figure(dpi=100)\n",
    "    ax = fig.add_subplot(1,1,1)\n",
    "    ax.plot(x,F.pdf(x),lw=2)\n",
    "    ax.hist(X,bins=100,density=True,histtype='stepfilled');\n",
    "    ax.set_ylim([0,0.5])\n",
    "    ax.set_xlim([-6,6])\n",
    "\n",
    "# c. parameters\n",
    "mu_true = 2\n",
    "sigma_true = 1\n",
    "mu_guess = 1\n",
    "sigma_guess = 2\n",
    "\n",
    "# d. random draws\n",
    "X = np.random.normal(loc=mu_true,scale=sigma_true,size=10**6)\n",
    "\n",
    "# e. figure\n",
    "fitting_normal(X,mu_guess,sigma_guess)"
   ]
  },
  {
   "cell_type": "markdown",
   "metadata": {},
   "source": [
    "**Second task:** Create an interactive version of the figure with sliders for $\\mu$ and $\\sigma$."
   ]
  },
  {
   "cell_type": "code",
   "execution_count": 59,
   "metadata": {},
   "outputs": [
    {
     "data": {
      "application/vnd.jupyter.widget-view+json": {
       "model_id": "ca3edd7843724df8988f412b13e0397a",
       "version_major": 2,
       "version_minor": 0
      },
      "text/plain": [
       "interactive(children=(FloatSlider(value=2.0, description='$\\\\mu$', max=5.0, min=0.1), FloatSlider(value=2.0, d…"
      ]
     },
     "metadata": {},
     "output_type": "display_data"
    }
   ],
   "source": [
    "# write your code here\n",
    "import ipywidgets as widgets\n",
    "\n",
    "widgets.interact(fitting_normal,\n",
    "                mu_guess=widgets.FloatSlider(description=\"$\\mu$\", min=0.1, max=5, value=2),\n",
    "                sigma_guess=widgets.FloatSlider(description=\"$\\sigma$\", min=0.1, max=5, value=2),\n",
    "                X=widgets.fixed(X)\n",
    ");"
   ]
  },
  {
   "cell_type": "markdown",
   "metadata": {},
   "source": [
    "**Answer:**"
   ]
  },
  {
   "cell_type": "code",
   "execution_count": 50,
   "metadata": {
    "jupyter": {
     "source_hidden": true
    }
   },
   "outputs": [],
   "source": [
    "# a. import\n",
    "%matplotlib inline\n",
    "import matplotlib.pyplot as plt\n",
    "from scipy.stats import norm\n",
    "\n",
    "# b. plotting figure\n",
    "def fitting_normal(X,mu_guess,sigma_guess):\n",
    "    \n",
    "    # i. normal distribution from guess\n",
    "    F = norm(loc=mu_guess,scale=sigma_guess)\n",
    "    \n",
    "    # ii. x-values\n",
    "    x_low = F.ppf(0.001) # x value where cdf is 0.001\n",
    "    x_high = F.ppf(0.999) # x value where cdf is 0.999\n",
    "    x = np.linspace(x_low,x_high,100)\n",
    "\n",
    "    # iii. figure\n",
    "    fig = plt.figure(dpi=100)\n",
    "    ax = fig.add_subplot(1,1,1)\n",
    "    ax.plot(x,F.pdf(x),lw=2)\n",
    "    ax.hist(X,bins=100,density=True,histtype='stepfilled');\n",
    "    ax.set_ylim([0,0.5])\n",
    "    ax.set_xlim([-6,6])\n",
    "\n",
    "# c. parameters\n",
    "mu_true = 2\n",
    "sigma_true = 1\n",
    "mu_guess = 1\n",
    "sigma_guess = 2\n",
    "\n",
    "# d. figure\n",
    "X = np.random.normal(loc=mu_true,scale=sigma_true,size=10**6)\n",
    "#fitting_normal(X,mu_guess,sigma_guess)"
   ]
  },
  {
   "cell_type": "code",
   "execution_count": 57,
   "metadata": {
    "jupyter": {
     "source_hidden": true
    }
   },
   "outputs": [
    {
     "data": {
      "application/vnd.jupyter.widget-view+json": {
       "model_id": "4e4b9278c72b4f048fd87bc10a198eb6",
       "version_major": 2,
       "version_minor": 0
      },
      "text/plain": [
       "interactive(children=(FloatSlider(value=1.0, description='$\\\\mu$', max=5.0, min=0.1, step=0.05), FloatSlider(v…"
      ]
     },
     "metadata": {},
     "output_type": "display_data"
    }
   ],
   "source": [
    "import ipywidgets as widgets\n",
    "widgets.interact(fitting_normal,\n",
    "    X=widgets.fixed(X),\n",
    "    mu_guess=widgets.FloatSlider(description=\"$\\mu$\", min=0.1, max=5, step=0.05, value=1),\n",
    "    sigma_guess=widgets.FloatSlider(description=\"$\\sigma$\", min=0.1, max=5, step=0.05, value=1)\n",
    ");"
   ]
  },
  {
   "cell_type": "markdown",
   "metadata": {},
   "source": [
    "## Save and load"
   ]
  },
  {
   "cell_type": "markdown",
   "metadata": {},
   "source": [
    "Consider the code below and fill in the missing lines so the code can run without any errors."
   ]
  },
  {
   "cell_type": "code",
   "execution_count": 68,
   "metadata": {},
   "outputs": [
    {
     "name": "stdout",
     "output_type": "stream",
     "text": [
      "variables loaded without error\n"
     ]
    }
   ],
   "source": [
    "import pickle\n",
    "\n",
    "# a. create some data\n",
    "my_data = {}\n",
    "my_data['A'] = {'a':1,'b':2}\n",
    "my_data['B'] = np.array([1,2,3])\n",
    "my_data['C'] = (2,3,4,12,4)\n",
    "\n",
    "\n",
    "my_np_data = {}\n",
    "my_np_data['D'] = np.array([1,2,3])\n",
    "my_np_data['E'] = np.zeros((5,8))\n",
    "my_np_data['F'] = np.ones((7,3,8))\n",
    "\n",
    "# c. save with pickle\n",
    "with open(f'data.p', 'wb') as f:\n",
    "    pickle.dump(my_data, f)\n",
    "    pass\n",
    "    \n",
    "# d. save with numpy\n",
    "# missing line, np.savez(?)\n",
    "np.savez(f'data.npz', **my_np_data)\n",
    "    \n",
    "# a. try\n",
    "def load_all():\n",
    "    with open(f'data.p', 'rb') as f:\n",
    "        data = pickle.load(f)\n",
    "        A = data['A']\n",
    "        B = data['B']\n",
    "        C = data['C']\n",
    "\n",
    "    with np.load(f'data.npz') as data:\n",
    "        D = data['D']\n",
    "        E = data['E']\n",
    "        F = data['F']        \n",
    "    \n",
    "    print('variables loaded without error')\n",
    "    \n",
    "load_all()"
   ]
  },
  {
   "cell_type": "markdown",
   "metadata": {},
   "source": [
    "**Answer:**"
   ]
  },
  {
   "cell_type": "code",
   "execution_count": 11,
   "metadata": {
    "jupyter": {
     "source_hidden": true
    }
   },
   "outputs": [
    {
     "name": "stdout",
     "output_type": "stream",
     "text": [
      "variables loaded without error\n"
     ]
    }
   ],
   "source": [
    "import pickle\n",
    "\n",
    "# a. create some data\n",
    "my_data = {}\n",
    "my_data['A'] = {'a':1,'b':2}\n",
    "my_data['B'] = np.array([1,2,3])\n",
    "my_data['C'] = (1,4,2)\n",
    "\n",
    "my_np_data = {}\n",
    "my_np_data['D'] = np.array([1,2,3])\n",
    "my_np_data['E'] = np.zeros((5,8))\n",
    "my_np_data['F'] = np.ones((7,3,8))\n",
    "\n",
    "# c. save with pickle\n",
    "with open(f'data.p', 'wb') as f:\n",
    "    pickle.dump(my_data, f)\n",
    "    \n",
    "# d. save with numpy\n",
    "np.savez(f'data.npz', **my_np_data)\n",
    "    \n",
    "# a. try\n",
    "def load_and_print():\n",
    "    with open(f'data.p', 'rb') as f:\n",
    "        data = pickle.load(f)\n",
    "        A = data['A']\n",
    "        B = data['B']\n",
    "        C = data['C']\n",
    "\n",
    "    with np.load(f'data.npz') as data:\n",
    "        D = data['D']\n",
    "        E = data['E']\n",
    "        F = data['F']        \n",
    "\n",
    "    print('variables loaded without error')\n",
    "            \n",
    "try:\n",
    "    load_and_print()\n",
    "except:\n",
    "    print('an error is found')"
   ]
  },
  {
   "cell_type": "markdown",
   "metadata": {},
   "source": [
    "## Modules"
   ]
  },
  {
   "cell_type": "markdown",
   "metadata": {},
   "source": [
    "1. Call the function `myfun` from the module `mymodule` present in this folder.\n",
    "2. Open VSCode and open the `mymodule.py`, add a new function and call it from this notebook."
   ]
  },
  {
   "cell_type": "code",
   "execution_count": 93,
   "metadata": {},
   "outputs": [
    {
     "name": "stdout",
     "output_type": "stream",
     "text": [
      "hello world!\n",
      "hello world!\n",
      "hello world!\n",
      "hello world!\n",
      "hello world!\n"
     ]
    },
    {
     "ename": "AttributeError",
     "evalue": "module 'mymodule' has no attribute 'newfun'",
     "output_type": "error",
     "traceback": [
      "\u001b[1;31m---------------------------------------------------------------------------\u001b[0m",
      "\u001b[1;31mAttributeError\u001b[0m                            Traceback (most recent call last)",
      "\u001b[1;32m<ipython-input-93-71176dc63d9c>\u001b[0m in \u001b[0;36m<module>\u001b[1;34m\u001b[0m\n\u001b[0;32m      2\u001b[0m \u001b[1;32mimport\u001b[0m \u001b[0mmymodule\u001b[0m\u001b[1;33m\u001b[0m\u001b[1;33m\u001b[0m\u001b[0m\n\u001b[0;32m      3\u001b[0m \u001b[0mmymodule\u001b[0m\u001b[1;33m.\u001b[0m\u001b[0mmyfun\u001b[0m\u001b[1;33m(\u001b[0m\u001b[1;36m5\u001b[0m\u001b[1;33m)\u001b[0m\u001b[1;33m\u001b[0m\u001b[1;33m\u001b[0m\u001b[0m\n\u001b[1;32m----> 4\u001b[1;33m \u001b[0mmymodule\u001b[0m\u001b[1;33m.\u001b[0m\u001b[0mnewfun\u001b[0m\u001b[1;33m(\u001b[0m\u001b[1;36m5\u001b[0m\u001b[1;33m)\u001b[0m\u001b[1;33m\u001b[0m\u001b[1;33m\u001b[0m\u001b[0m\n\u001b[0m",
      "\u001b[1;31mAttributeError\u001b[0m: module 'mymodule' has no attribute 'newfun'"
     ]
    }
   ],
   "source": [
    "# write your code here\n",
    "import mymodule\n",
    "mymodule.myfun(5)\n",
    "mymodule.newfun(5)"
   ]
  },
  {
   "cell_type": "markdown",
   "metadata": {},
   "source": [
    "**Answer:**"
   ]
  },
  {
   "cell_type": "code",
   "execution_count": 13,
   "metadata": {
    "jupyter": {
     "source_hidden": true
    }
   },
   "outputs": [
    {
     "name": "stdout",
     "output_type": "stream",
     "text": [
      "hello world!\n",
      "hello world!\n",
      "hello world!\n",
      "hello world!\n",
      "hello world!\n"
     ]
    }
   ],
   "source": [
    "import mymodule\n",
    "mymodule.myfun(5)"
   ]
  },
  {
   "cell_type": "markdown",
   "metadata": {},
   "source": [
    "## Git"
   ]
  },
  {
   "cell_type": "markdown",
   "metadata": {},
   "source": [
    "1. Follow this [guide](https://numeconcopenhagen.netlify.com/guides/vscode-git/) to create a GitHub repository, and put your solution to this problem set in it.\n",
    "2. Pair up with a fellow student. Clone each others repositories and run the code in them."
   ]
  },
  {
   "cell_type": "markdown",
   "metadata": {},
   "source": [
    "**IMPORTANT:** You will need **git** for the data project in a few needs. Better learn it know. Remember, that the teaching assistants are there to help you."
   ]
  },
  {
   "cell_type": "markdown",
   "metadata": {},
   "source": [
    "# Problem"
   ]
  },
  {
   "cell_type": "markdown",
   "metadata": {},
   "source": [
    "Consider an **exchange economy** with\n",
    "\n",
    "1. 2 goods, $(x_1,x_2)$\n",
    "2. $N$ consumers indexed by $j \\in \\{1,2,\\dots,N\\}$\n",
    "3. Preferences are Cobb-Douglas with truncated normally *heterogenous* coefficients\n",
    "\n",
    "    $$\n",
    "    \\begin{aligned}\n",
    "    u^{j}(x_{1},x_{2}) & = x_{1}^{\\alpha_{j}}x_{2}^{1-\\alpha_{j}}\\\\\n",
    "     & \\tilde{\\alpha}_{j}\\sim\\mathcal{N}(\\mu,\\sigma)\\\\\n",
    "     & \\alpha_j = \\max(\\underline{\\mu},\\min(\\overline{\\mu},\\tilde{\\alpha}_{j}))\n",
    "    \\end{aligned}\n",
    "    $$\n",
    "\n",
    "4. Endowments are *heterogenous* and given by\n",
    "\n",
    "    $$\n",
    "    \\begin{aligned}\n",
    "    \\boldsymbol{e}^{j}&=(e_{1}^{j},e_{2}^{j}) \\\\\n",
    "     &  & e_i^j \\sim f, f(x,\\beta_i) =  1/\\beta_i \\exp(-x/\\beta)\n",
    "    \\end{aligned}\n",
    "    $$"
   ]
  },
  {
   "cell_type": "markdown",
   "metadata": {},
   "source": [
    "**Problem:** Write a function to solve for the equilibrium."
   ]
  },
  {
   "cell_type": "markdown",
   "metadata": {},
   "source": [
    "You can use the following parameters:"
   ]
  },
  {
   "cell_type": "code",
   "execution_count": 14,
   "metadata": {},
   "outputs": [],
   "source": [
    "# a. parameters\n",
    "N = 10000\n",
    "mu = 0.5\n",
    "sigma = 0.2\n",
    "mu_low = 0.1\n",
    "mu_high = 0.9\n",
    "beta1 = 1.3\n",
    "beta2 = 2.1\n",
    "seed = 1986\n",
    "\n",
    "# b. draws of random numbers\n",
    "# c. demand function\n",
    "# d. excess demand function\n",
    "# e. find equilibrium function\n",
    "# f. call find equilibrium function"
   ]
  },
  {
   "cell_type": "markdown",
   "metadata": {},
   "source": [
    "**Hint:** The code structure is exactly the same as for the exchange economy considered in the lecture. The code for solving that exchange economy is reproduced in condensed form below."
   ]
  },
  {
   "cell_type": "code",
   "execution_count": 15,
   "metadata": {},
   "outputs": [
    {
     "name": "stdout",
     "output_type": "stream",
     "text": [
      "  0: p1 =   1.33690689 -> excess demand ->  -630.93108302\n",
      "  1: p1 =   1.27551407 -> excess demand ->  -613.92820358\n",
      "  2: p1 =   1.21593719 -> excess demand ->  -595.76882769\n",
      "  3: p1 =   1.15829785 -> excess demand ->  -576.39340748\n",
      "  4: p1 =   1.10272273 -> excess demand ->  -555.75114178\n",
      "   ...\n",
      " 25: p1 =   0.53269252 -> excess demand ->   -53.80455643\n",
      " 50: p1 =   0.50897770 -> excess demand ->    -0.27125769\n",
      " 75: p1 =   0.50886603 -> excess demand ->    -0.00120613\n",
      "100: p1 =   0.50886553 -> excess demand ->    -0.00000536\n",
      "125: p1 =   0.50886553 -> excess demand ->    -0.00000002\n",
      "130: p1 =   0.50886553 -> excess demand ->    -0.00000001\n"
     ]
    }
   ],
   "source": [
    "# a. parameters\n",
    "N = 1000\n",
    "k = 2\n",
    "mu_low = 0.1\n",
    "mu_high = 0.9\n",
    "seed = 1986\n",
    "\n",
    "# b. draws of random numbers\n",
    "np.random.seed(seed)\n",
    "alphas = np.random.uniform(low=mu_low,high=mu_high,size=N)\n",
    "\n",
    "# c. demand function\n",
    "def demand_good_1_func(alpha,p1,p2,k):\n",
    "    I = k*p1+p2\n",
    "    return alpha*I/p1\n",
    "\n",
    "# d. excess demand function\n",
    "def excess_demand_good_1_func(alphas,p1,p2,k):\n",
    "    \n",
    "    # a. demand\n",
    "    demand = np.sum(demand_good_1_func(alphas,p1,p2,k))\n",
    "    \n",
    "    # b. supply\n",
    "    supply = k*alphas.size\n",
    "    \n",
    "    # c. excess demand\n",
    "    excess_demand = demand-supply\n",
    "    \n",
    "    return excess_demand\n",
    "\n",
    "# e. find equilibrium function\n",
    "def find_equilibrium(alphas,p1,p2,k,kappa=0.5,eps=1e-8,maxiter=500):\n",
    "    \n",
    "    t = 0\n",
    "    while True:\n",
    "\n",
    "        # a. step 1: excess demand\n",
    "        Z1 = excess_demand_good_1_func(alphas,p1,p2,k)\n",
    "        \n",
    "        # b: step 2: stop?\n",
    "        if  np.abs(Z1) < eps or t >= maxiter:\n",
    "            print(f'{t:3d}: p1 = {p1:12.8f} -> excess demand -> {Z1:14.8f}')\n",
    "            break    \n",
    "    \n",
    "        # c. step 3: update p1\n",
    "        p1 = p1 + kappa*Z1/alphas.size\n",
    "            \n",
    "        # d. step 4: return \n",
    "        if t < 5 or t%25 == 0:\n",
    "            print(f'{t:3d}: p1 = {p1:12.8f} -> excess demand -> {Z1:14.8f}')\n",
    "        elif t == 5:\n",
    "            print('   ...')\n",
    "            \n",
    "        t += 1    \n",
    "\n",
    "    return p1\n",
    "\n",
    "# e. call find equilibrium function\n",
    "p1 = 1.4\n",
    "p2 = 1\n",
    "kappa = 0.1\n",
    "eps = 1e-8\n",
    "p1 = find_equilibrium(alphas,p1,p2,k,kappa=kappa,eps=eps)"
   ]
  },
  {
   "cell_type": "markdown",
   "metadata": {},
   "source": [
    "**Answers:**"
   ]
  },
  {
   "cell_type": "code",
   "execution_count": 16,
   "metadata": {
    "jupyter": {
     "source_hidden": true
    }
   },
   "outputs": [
    {
     "name": "stdout",
     "output_type": "stream",
     "text": [
      "  0: p1 =   1.45140633 -> excess demand ->  1028.12662815\n",
      "  1: p1 =   1.48943510 -> excess demand ->   760.57530384\n",
      "  2: p1 =   1.51816180 -> excess demand ->   574.53408777\n",
      "  3: p1 =   1.54017076 -> excess demand ->   440.17912761\n",
      "  4: p1 =   1.55720246 -> excess demand ->   340.63398830\n",
      "   ...\n",
      " 25: p1 =   1.62002594 -> excess demand ->     2.71044780\n",
      " 50: p1 =   1.62056127 -> excess demand ->     0.00980814\n",
      " 75: p1 =   1.62056320 -> excess demand ->     0.00003553\n",
      "100: p1 =   1.62056321 -> excess demand ->     0.00000013\n",
      "112: p1 =   1.62056321 -> excess demand ->     0.00000001\n"
     ]
    }
   ],
   "source": [
    "# a. parameters\n",
    "N = 10000\n",
    "mu = 0.5\n",
    "sigma = 0.2\n",
    "mu_low = 0.1\n",
    "mu_high = 0.9\n",
    "beta1 = 1.3\n",
    "beta2 = 2.1\n",
    "seed = 1986\n",
    "\n",
    "# b. draws of random numbers\n",
    "np.random.seed(seed)\n",
    "alphas = np.random.normal(loc=mu,scale=sigma,size=N)\n",
    "alphas = np.fmax(np.fmin(alphas,mu_high),mu_low)\n",
    "e1 = np.random.exponential(beta1,size=N)\n",
    "e2 = np.random.exponential(beta2,size=N)\n",
    "\n",
    "# c. demand function\n",
    "def demand_good_1_func(alpha,p1,p2,e1,e2):\n",
    "    I = p1*e1+p2*e2\n",
    "    return alpha*I/p1\n",
    "\n",
    "# d. excess demand function\n",
    "def excess_demand_good_1_func(alphas,p1,p2,e1,e2):\n",
    "    \n",
    "    # a. demand\n",
    "    demand = np.sum(demand_good_1_func(alphas,p1,p2,e1,e2))\n",
    "    \n",
    "    # b. supply\n",
    "    supply = np.sum(e1)\n",
    "    \n",
    "    # c. excess demand\n",
    "    excess_demand = demand-supply\n",
    "    \n",
    "    return excess_demand\n",
    "\n",
    "# e. find equilibrium function\n",
    "def find_equilibrium(alphas,p1,p2,e1,e2,kappa=0.5,eps=1e-8,maxiter=500):\n",
    "    \n",
    "    t = 0\n",
    "    while True:\n",
    "\n",
    "        # a. step 1: excess demand\n",
    "        Z1 = excess_demand_good_1_func(alphas,p1,p2,e1,e2)\n",
    "        \n",
    "        # b: step 2: stop?\n",
    "        if  np.abs(Z1) < eps or t >= maxiter:\n",
    "            print(f'{t:3d}: p1 = {p1:12.8f} -> excess demand -> {Z1:14.8f}')\n",
    "            break    \n",
    "    \n",
    "        # c. step 3: update p1\n",
    "        p1 = p1 + kappa*Z1/alphas.size\n",
    "            \n",
    "        # d. step 4: return \n",
    "        if t < 5 or t%25 == 0:\n",
    "            print(f'{t:3d}: p1 = {p1:12.8f} -> excess demand -> {Z1:14.8f}')\n",
    "        elif t == 5:\n",
    "            print('   ...')\n",
    "            \n",
    "        t += 1    \n",
    "\n",
    "    return p1\n",
    "\n",
    "# f. call find equilibrium function\n",
    "p1 = 1.4\n",
    "p2 = 1\n",
    "kappa = 0.5\n",
    "eps = 1e-8\n",
    "p1 = find_equilibrium(alphas,p1,p2,e1,e2,kappa=kappa,eps=eps)"
   ]
  },
  {
   "cell_type": "markdown",
   "metadata": {},
   "source": [
    "# Extra Problems"
   ]
  },
  {
   "cell_type": "markdown",
   "metadata": {},
   "source": [
    "## Multiple goods"
   ]
  },
  {
   "cell_type": "markdown",
   "metadata": {},
   "source": [
    "Solve the main problem extended with multiple goods:"
   ]
  },
  {
   "cell_type": "markdown",
   "metadata": {},
   "source": [
    "$$\n",
    "\\begin{aligned}\n",
    "u^{j}(x_{1},x_{2}) & = x_{1}^{\\alpha^1_{j}} \\cdot x_{2}^{\\alpha^2_{j}} \\cdots x_{M}^{\\alpha^M_{j}}\\\\\n",
    " &  \\alpha_j = [\\alpha^1_{j},\\alpha^2_{j},\\dots,\\alpha^M_{j}] \\\\\n",
    " &  \\log(\\alpha_j) \\sim \\mathcal{N}(0,\\Sigma) \\\\\n",
    "\\end{aligned}\n",
    "$$\n",
    "\n",
    "where $\\Sigma$ is a valid covariance matrix."
   ]
  },
  {
   "cell_type": "code",
   "execution_count": 17,
   "metadata": {},
   "outputs": [
    {
     "name": "stdout",
     "output_type": "stream",
     "text": [
      "[[ 1.3125  0.375   0.25  ]\n",
      " [ 0.375   1.25   -0.5   ]\n",
      " [ 0.25   -0.5     1.    ]]\n",
      "[1.89820099 1.90231575 1.64603366]\n",
      "[[ 1.          0.17369157  0.11477933]\n",
      " [ 0.17369157  1.         -0.17763688]\n",
      " [ 0.11477933 -0.17763688  1.        ]]\n"
     ]
    }
   ],
   "source": [
    "# a. choose parameters\n",
    "N = 10000\n",
    "J = 3\n",
    "\n",
    "# b. choose Sigma\n",
    "Sigma_lower = np.array([[1, 0, 0], [0.5, 1, 0], [0.25, -0.5, 1]])\n",
    "Sigma_upper = Sigma_lower.T\n",
    "Sigma = Sigma_upper@Sigma_lower\n",
    "print(Sigma)\n",
    "\n",
    "# c. draw random numbers\n",
    "alphas = np.exp(np.random.multivariate_normal(np.zeros(J), Sigma, 10000))\n",
    "print(np.mean(alphas,axis=0))\n",
    "print(np.corrcoef(alphas.T))\n",
    "\n",
    "# write your code here"
   ]
  }
 ],
 "metadata": {
  "kernelspec": {
   "display_name": "Python 3",
   "language": "python",
   "name": "python3"
  },
  "language_info": {
   "codemirror_mode": {
    "name": "ipython",
    "version": 3
   },
   "file_extension": ".py",
   "mimetype": "text/x-python",
   "name": "python",
   "nbconvert_exporter": "python",
   "pygments_lexer": "ipython3",
   "version": "3.7.4"
  },
  "toc-autonumbering": true
 },
 "nbformat": 4,
 "nbformat_minor": 4
}
